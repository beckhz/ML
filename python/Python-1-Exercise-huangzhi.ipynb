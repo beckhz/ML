{
 "cells": [
  {
   "cell_type": "markdown",
   "metadata": {},
   "source": [
    "## Python第一课作业\n",
    "\n",
    "####  作业提交说明：\n",
    "- 位置：作业文件统一放置于/0.Teacher/Exercise/Python1/下\n",
    "- 文件名：请先复制该notebook文件，并重新命名为(课程名)+(您姓名的全拼)，并按要求完成后保存\n",
    "- 时间：课程结束后的第二天前提交。\n",
    "- 注意：请勿抄袭，移动，修改，删除其他同学和原始空白的练习文件。\n",
    "***"
   ]
  },
  {
   "cell_type": "markdown",
   "metadata": {},
   "source": [
    "## 作业\n",
    "- 一问一答，好友爱，回答不错，但有些少。"
   ]
  },
  {
   "cell_type": "markdown",
   "metadata": {},
   "source": [
    "#### 简答题"
   ]
  },
  {
   "cell_type": "markdown",
   "metadata": {},
   "source": [
    "- 1.你常用Jupyter notebook中的magic函数都有哪些？"
   ]
  },
  {
   "cell_type": "code",
   "execution_count": 2,
   "metadata": {},
   "outputs": [],
   "source": [
    "# 打印当前魔法命令\n",
    "# %lsmagic "
   ]
  },
  {
   "cell_type": "markdown",
   "metadata": {},
   "source": [
    "#### 答：\n",
    "- 显示当前路径  \n",
    "%pwd\n",
    "- python版本转换  \n",
    "%python2  %%python3\n",
    "- 显示运行时间  \n",
    "%timeit  \n",
    "- cell显示图标  \n",
    "%matplotlib inline  \n",
    "- 显示所有打印  \n",
    "%config ZMQInteractiveShell.ast_node_interactivity='all' \n",
    "- 显示所有变量详情  \n",
    "%whos \n",
    "- 输出文件  \n",
    "%%writefile "
   ]
  },
  {
   "cell_type": "markdown",
   "metadata": {
    "collapsed": true
   },
   "source": [
    "- 2.简述Python文件运行的流程"
   ]
  },
  {
   "cell_type": "markdown",
   "metadata": {},
   "source": [
    "#### 答：\n",
    "先对python源码进行编译，得到PyCodeObject对象，再将其交给虚拟机进行解释，逐条执行代码从而完成程序执行"
   ]
  },
  {
   "cell_type": "markdown",
   "metadata": {
    "collapsed": true
   },
   "source": [
    "- 3.何为字符串驻留intern？"
   ]
  },
  {
   "cell_type": "markdown",
   "metadata": {},
   "source": [
    "#### 答：\n",
    "python会把不含特殊字符的字符串放入缓存池中以便复用，因此  \n",
    "a=\"asd\"  \n",
    "b=\"asd\"  \n",
    "a==b #True  \n",
    "而含有异常值的字符串会放入堆中，地址不同"
   ]
  },
  {
   "cell_type": "markdown",
   "metadata": {},
   "source": [
    "- 4.简单说说Python中的垃圾回收"
   ]
  },
  {
   "cell_type": "markdown",
   "metadata": {},
   "source": [
    "#### 答：\n",
    "以引用计数为主，分代回收为辅进行  \n",
    "- 引用计数  \n",
    "对象中都含有引用计数器ob_ref，当对象被引用，计数累加1，引用解除则计数减1，当ob_ref为0时对象被回收，内存被释放  \n",
    "- 分代回收  \n",
    "新创建的对象被分配在0代，当0代达到上限开始进行回收，0代中不能被回收的放入1代；1代达到上限也开始回收，1代中不能被回收的放入2代  \n",
    "以此类推"
   ]
  },
  {
   "cell_type": "markdown",
   "metadata": {},
   "source": [
    "- 5.迭代器与生成器有什么相似与不同的地方？"
   ]
  },
  {
   "cell_type": "markdown",
   "metadata": {},
   "source": [
    "#### 答：\n",
    "可迭代对象Iterable：可以被for循环的对象统称为可迭代对象Iterable,list,str,dict这些都是可迭代类型  \n",
    "迭代器Iterator：可以被next调用的迭代器。  \n",
    "  \n",
    "生成器Generator：首先是一个迭代器，然后其内容是按需生成  "
   ]
  },
  {
   "cell_type": "markdown",
   "metadata": {},
   "source": [
    "- 6.简述您对Python语言中的名字空间的认识？"
   ]
  },
  {
   "cell_type": "markdown",
   "metadata": {},
   "source": [
    "#### 答：\n",
    "当赋值或建立对象时，例如：  \n",
    "a = 123  \n",
    "值\"123\"放在内存中，那么变量名\"a\"就存在名字空间里，这是一种字典形式的存储，键是\"a\"，值是\"123\"\n",
    "名字空间"
   ]
  },
  {
   "cell_type": "markdown",
   "metadata": {},
   "source": [
    "#### 编程题"
   ]
  },
  {
   "cell_type": "markdown",
   "metadata": {},
   "source": [
    "- 7.请对输入三个整数a,b,c,判断能否以它们为三个边长构成三角形。若能，输出YES和面积，否则输出NO"
   ]
  },
  {
   "cell_type": "code",
   "execution_count": 49,
   "metadata": {},
   "outputs": [
    {
     "name": "stdout",
     "output_type": "stream",
     "text": [
      "('YES', 1.984313483298443)\n"
     ]
    }
   ],
   "source": [
    "import math\n",
    "\n",
    "def calArea(a, b, c):\n",
    "    lines = sorted([a, b, c])\n",
    "    C = lines[2]\n",
    "    B = lines[1]\n",
    "    A = lines[0]\n",
    "    \n",
    "    if C >= A+B: return \"NO\"\n",
    "    \n",
    "    p = (A+B+C)/2\n",
    "    \n",
    "    return \"YES\", math.sqrt(p*(p-a)*(p-b)*(p-c))\n",
    "    \n",
    "a = calArea(2,2,3)\n",
    "print(a)"
   ]
  },
  {
   "cell_type": "markdown",
   "metadata": {},
   "source": [
    "- 8.可逆素数是将某素数的各位数字顺序颠倒后仍为素数的数，请编程并输出200以内的可逆素数"
   ]
  },
  {
   "cell_type": "code",
   "execution_count": 78,
   "metadata": {},
   "outputs": [
    {
     "name": "stdout",
     "output_type": "stream",
     "text": [
      "1\n",
      "2\n",
      "3\n",
      "5\n",
      "7\n",
      "11\n",
      "31\n",
      "71\n",
      "13\n",
      "73\n",
      "17\n",
      "37\n",
      "97\n",
      "79\n",
      "101\n",
      "701\n",
      "311\n",
      "131\n",
      "941\n",
      "151\n",
      "751\n",
      "761\n",
      "971\n",
      "181\n",
      "191\n",
      "991\n"
     ]
    }
   ],
   "source": [
    "def inversPrimeNum():\n",
    "    \n",
    "    def isPrimeNum(num):\n",
    "        if num < 1: return False\n",
    "\n",
    "        for i in range(2,int(math.sqrt(num))+1):\n",
    "            if num%i == 0: return False        \n",
    "        return True\n",
    "\n",
    "    for i in range(200):\n",
    "        if isPrimeNum(i):\n",
    "            invers = int(str(i)[::-1])\n",
    "            if isPrimeNum(invers):\n",
    "                print(invers)\n",
    "        else:\n",
    "            continue\n",
    "            \n",
    "inversPrimeNum()"
   ]
  }
 ],
 "metadata": {
  "kernelspec": {
   "display_name": "Python 3",
   "language": "python",
   "name": "python3"
  },
  "language_info": {
   "codemirror_mode": {
    "name": "ipython",
    "version": 3
   },
   "file_extension": ".py",
   "mimetype": "text/x-python",
   "name": "python",
   "nbconvert_exporter": "python",
   "pygments_lexer": "ipython3",
   "version": "3.5.2"
  }
 },
 "nbformat": 4,
 "nbformat_minor": 2
}
