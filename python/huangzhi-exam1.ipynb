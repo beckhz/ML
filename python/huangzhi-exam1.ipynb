{
 "cells": [
  {
   "cell_type": "markdown",
   "metadata": {},
   "source": [
    "## 七月在线机器学习集训营七期第一周(Python基础)考试\n",
    "#### 考试说明:\n",
    "- 起止时间：请同学在2019年1月25日至1月27日期间完成，最晚提交时间本周日（1月27日24时之前）结束，<b>逾期不接受补考,该考试分数计入平时成绩</b>\n",
    "- 考试提交方式：请同学<font color=red><b>拷贝</b></font>该试卷后，将文件更名为同学姓名拼音-exam1（例如wangwei-exam1）后，移动至/0.Teacher/Exam/1/目录下进行作答。\n",
    "- 注意事项：为确保同学们真正了解自身对本周课程的掌握程度，<font color=red><b>请勿翻阅，移动，更改</b></font>其它同学试卷。如发现按0分处理\n",
    "- 请同学在下方同学姓名处填写自己的姓名，批改人和最终得分处不用填写"
   ]
  },
  {
   "cell_type": "markdown",
   "metadata": {},
   "source": [
    "- 同学姓名：黄之\n",
    "- 批改人：   \n",
    "- 最终得分:"
   ]
  },
  {
   "cell_type": "markdown",
   "metadata": {},
   "source": [
    "<center><h1>####答卷开始####</h1></center>"
   ]
  },
  {
   "cell_type": "code",
   "execution_count": 12,
   "metadata": {
    "ExecuteTime": {
     "end_time": "2019-01-25T15:58:28.687501Z",
     "start_time": "2019-01-25T15:58:28.676149Z"
    },
    "collapsed": true
   },
   "outputs": [],
   "source": [
    "%config ZMQInteractiveShell.ast_node_interactivity=\"all\""
   ]
  },
  {
   "cell_type": "markdown",
   "metadata": {},
   "source": [
    "***"
   ]
  },
  {
   "cell_type": "markdown",
   "metadata": {},
   "source": [
    "### 简答题 (共十题，每题4分，共40分)"
   ]
  },
  {
   "cell_type": "markdown",
   "metadata": {},
   "source": [
    "#### 1.请谈谈Python中is 和 == 的区别(代码演示)\n",
    "\n",
    "\n"
   ]
  },
  {
   "cell_type": "markdown",
   "metadata": {
    "ExecuteTime": {
     "end_time": "2019-01-25T12:21:59.503744Z",
     "start_time": "2019-01-25T12:21:59.483780Z"
    }
   },
   "source": [
    "#### 答：\n",
    "首先python对象有基本三属性：id、type、value，如下所示："
   ]
  },
  {
   "cell_type": "code",
   "execution_count": 25,
   "metadata": {
    "ExecuteTime": {
     "end_time": "2019-01-25T12:47:27.332951Z",
     "start_time": "2019-01-25T12:47:27.321598Z"
    }
   },
   "outputs": [
    {
     "data": {
      "text/plain": [
       "4354926640"
      ]
     },
     "execution_count": 25,
     "metadata": {},
     "output_type": "execute_result"
    },
    {
     "data": {
      "text/plain": [
       "int"
      ]
     },
     "execution_count": 25,
     "metadata": {},
     "output_type": "execute_result"
    },
    {
     "data": {
      "text/plain": [
       "1"
      ]
     },
     "execution_count": 25,
     "metadata": {},
     "output_type": "execute_result"
    }
   ],
   "source": [
    "showattribute = 1\n",
    "id(showattribute)\n",
    "type(showattribute)\n",
    "showattribute"
   ]
  },
  {
   "cell_type": "markdown",
   "metadata": {},
   "source": [
    "python中的is,==都是判别两个对象是否相等，但is判断的是id是否相等，而==判断的是值是否相等  \n",
    "先看看id与值的区别："
   ]
  },
  {
   "cell_type": "code",
   "execution_count": 28,
   "metadata": {
    "ExecuteTime": {
     "end_time": "2019-01-25T12:55:52.958955Z",
     "start_time": "2019-01-25T12:55:52.947333Z"
    }
   },
   "outputs": [
    {
     "data": {
      "text/plain": [
       "4400447560"
      ]
     },
     "execution_count": 28,
     "metadata": {},
     "output_type": "execute_result"
    },
    {
     "data": {
      "text/plain": [
       "4400447560"
      ]
     },
     "execution_count": 28,
     "metadata": {},
     "output_type": "execute_result"
    },
    {
     "data": {
      "text/plain": [
       "4400450632"
      ]
     },
     "execution_count": 28,
     "metadata": {},
     "output_type": "execute_result"
    }
   ],
   "source": [
    "a = b = [1,2,3]\n",
    "c = [1,2,3]\n",
    "id(a)\n",
    "id(b)\n",
    "id(c)"
   ]
  },
  {
   "cell_type": "markdown",
   "metadata": {
    "ExecuteTime": {
     "end_time": "2019-01-25T12:57:39.933216Z",
     "start_time": "2019-01-25T12:57:39.927854Z"
    }
   },
   "source": [
    "可以看出a、b、c值都相同，但c与a、b的id不相同  \n",
    "下面来比较is与==的区别"
   ]
  },
  {
   "cell_type": "code",
   "execution_count": 30,
   "metadata": {
    "ExecuteTime": {
     "end_time": "2019-01-25T12:59:03.600265Z",
     "start_time": "2019-01-25T12:59:03.587133Z"
    }
   },
   "outputs": [
    {
     "data": {
      "text/plain": [
       "True"
      ]
     },
     "execution_count": 30,
     "metadata": {},
     "output_type": "execute_result"
    },
    {
     "data": {
      "text/plain": [
       "True"
      ]
     },
     "execution_count": 30,
     "metadata": {},
     "output_type": "execute_result"
    },
    {
     "data": {
      "text/plain": [
       "True"
      ]
     },
     "execution_count": 30,
     "metadata": {},
     "output_type": "execute_result"
    },
    {
     "data": {
      "text/plain": [
       "False"
      ]
     },
     "execution_count": 30,
     "metadata": {},
     "output_type": "execute_result"
    }
   ],
   "source": [
    "a == b\n",
    "a is b\n",
    "a == c\n",
    "a is c"
   ]
  },
  {
   "cell_type": "markdown",
   "metadata": {},
   "source": [
    "由于a、b的值和id都相同，所以a==b和a is b都是True；而a与c的id不同，因此a is c是False"
   ]
  },
  {
   "cell_type": "markdown",
   "metadata": {
    "ExecuteTime": {
     "end_time": "2019-01-25T13:12:47.704903Z",
     "start_time": "2019-01-25T13:12:47.698201Z"
    }
   },
   "source": [
    "ps：一般的，都有如下现象：  \n",
    "```\n",
    "a = object1\n",
    "b = object1\n",
    "a == b # True\n",
    "a is b # False\n",
    "```\n",
    "但特殊的对于数值型或str对象则不一定符合该现象，例如："
   ]
  },
  {
   "cell_type": "code",
   "execution_count": 33,
   "metadata": {
    "ExecuteTime": {
     "end_time": "2019-01-25T13:15:15.407837Z",
     "start_time": "2019-01-25T13:15:15.387140Z"
    }
   },
   "outputs": [
    {
     "data": {
      "text/plain": [
       "True"
      ]
     },
     "execution_count": 33,
     "metadata": {},
     "output_type": "execute_result"
    },
    {
     "data": {
      "text/plain": [
       "True"
      ]
     },
     "execution_count": 33,
     "metadata": {},
     "output_type": "execute_result"
    },
    {
     "name": "stdout",
     "output_type": "stream",
     "text": [
      "=====\n"
     ]
    },
    {
     "data": {
      "text/plain": [
       "True"
      ]
     },
     "execution_count": 33,
     "metadata": {},
     "output_type": "execute_result"
    },
    {
     "data": {
      "text/plain": [
       "True"
      ]
     },
     "execution_count": 33,
     "metadata": {},
     "output_type": "execute_result"
    }
   ],
   "source": [
    "a = 1\n",
    "b = 1\n",
    "a == b\n",
    "a is b\n",
    "print(\"=====\")\n",
    "c = \"asdasd\"\n",
    "d = \"asdasd\"\n",
    "c == d\n",
    "c is d"
   ]
  },
  {
   "cell_type": "markdown",
   "metadata": {},
   "source": [
    "这是因为数值及一般str都会存储在缓存区供复用，以便节省内存开销，而对于含有特殊字符的str对象，则依然符合上面的规则："
   ]
  },
  {
   "cell_type": "code",
   "execution_count": 34,
   "metadata": {
    "ExecuteTime": {
     "end_time": "2019-01-25T13:17:16.686406Z",
     "start_time": "2019-01-25T13:17:16.676906Z"
    }
   },
   "outputs": [
    {
     "data": {
      "text/plain": [
       "True"
      ]
     },
     "execution_count": 34,
     "metadata": {},
     "output_type": "execute_result"
    },
    {
     "data": {
      "text/plain": [
       "False"
      ]
     },
     "execution_count": 34,
     "metadata": {},
     "output_type": "execute_result"
    }
   ],
   "source": [
    "a = \"asd@!#  @%!@$\"\n",
    "b = \"asd@!#  @%!@$\"\n",
    "a == b\n",
    "a is b"
   ]
  },
  {
   "cell_type": "markdown",
   "metadata": {
    "ExecuteTime": {
     "end_time": "2019-01-25T12:36:51.835979Z",
     "start_time": "2019-01-25T12:36:51.831507Z"
    }
   },
   "source": [
    "#### 2.什么是Python中的自省？"
   ]
  },
  {
   "cell_type": "markdown",
   "metadata": {},
   "source": [
    "#### 答\n",
    "自省就是检查某些事物以确定它是什么、它知道什么以及它能做什么  \n",
    "常用的python中的自省有：  \n",
    "- type()，判断对象类型\n",
    "- dir()， 带参数时获得该对象的所有属性和方法；不带参数时，返回当前范围内的变量、方法和定义的类型列表\n",
    "- isinstance()，判断对象是否是已知类型\n",
    "- hasattr()，判断对象是否包含对应属性\n",
    "- getattr()，获取对象属性\n",
    "- setattr()， 设置对象属性\n",
    "- help(), 输出模块、函数的使用帮助"
   ]
  },
  {
   "cell_type": "markdown",
   "metadata": {},
   "source": [
    "#### 3.Python中的高阶函数是指什么？"
   ]
  },
  {
   "cell_type": "markdown",
   "metadata": {},
   "source": [
    "#### 答 \n",
    "python中函数是第一公民，可以赋值给变量，可以当做入参，也可以被当做函数返回值  \n",
    "对于接受函数入参的函数，被称作高阶函数  \n",
    "ps：为什么能接受函数做入参？  \n",
    "因为函数可以赋值给变量，也就是变量指向了函数，变量可以作为入参，那么指向函数的变量作为入参时，也就是函数做了入参  \n",
    "常用高阶函数：  \n",
    "- map()\n",
    "- filter()\n",
    "- max()"
   ]
  },
  {
   "cell_type": "markdown",
   "metadata": {},
   "source": [
    "#### 4. Python类中有哪些的成员，如何分类他们，他们各自又有哪些用途？"
   ]
  },
  {
   "cell_type": "code",
   "execution_count": null,
   "metadata": {
    "collapsed": true
   },
   "outputs": [],
   "source": []
  },
  {
   "cell_type": "markdown",
   "metadata": {},
   "source": [
    "#### 5 Python中列表，元组的相同之处及区别都有哪些？集合与字典呢？"
   ]
  },
  {
   "cell_type": "code",
   "execution_count": null,
   "metadata": {
    "collapsed": true
   },
   "outputs": [],
   "source": []
  },
  {
   "cell_type": "markdown",
   "metadata": {},
   "source": [
    "#### 6.尝试简述一下什么是Python类中的数据封装，以及封装的意义？ "
   ]
  },
  {
   "cell_type": "code",
   "execution_count": null,
   "metadata": {
    "collapsed": true
   },
   "outputs": [],
   "source": []
  },
  {
   "cell_type": "markdown",
   "metadata": {},
   "source": [
    "#### 7.解释下Python中的LEGB规则 ？ "
   ]
  },
  {
   "cell_type": "code",
   "execution_count": null,
   "metadata": {
    "collapsed": true
   },
   "outputs": [],
   "source": []
  },
  {
   "cell_type": "markdown",
   "metadata": {},
   "source": [
    "#### 8.谈谈您对Python中闭包的理解？"
   ]
  },
  {
   "cell_type": "code",
   "execution_count": null,
   "metadata": {
    "collapsed": true
   },
   "outputs": [],
   "source": []
  },
  {
   "cell_type": "markdown",
   "metadata": {},
   "source": [
    "#### 9\t简述你理解 的Python中的数据描述符"
   ]
  },
  {
   "cell_type": "code",
   "execution_count": null,
   "metadata": {
    "collapsed": true
   },
   "outputs": [],
   "source": []
  },
  {
   "cell_type": "markdown",
   "metadata": {},
   "source": [
    "#### 10.Python中的模块和包是什么，如何自定义并使用？"
   ]
  },
  {
   "cell_type": "code",
   "execution_count": null,
   "metadata": {
    "collapsed": true
   },
   "outputs": [],
   "source": []
  },
  {
   "cell_type": "markdown",
   "metadata": {},
   "source": [
    "### 代码题(共十题，每题6分,共60分)"
   ]
  },
  {
   "cell_type": "markdown",
   "metadata": {},
   "source": [
    "#### 1. 创建一个函数，接收一个字符串参数，判断其做为Python标识符是否合法。\n",
    "\n",
    "具体要求： \n",
    "- 如果合法则输出 True，否则输出 False。\n",
    "- 如果该字符串与Python内置的关键字，或Bifs冲突，则打印'conflict'\n",
    "- 注:Python标识符的规则，关键字和Bifs可搜索得到"
   ]
  },
  {
   "cell_type": "code",
   "execution_count": 5,
   "metadata": {
    "ExecuteTime": {
     "end_time": "2019-01-25T15:57:27.477704Z",
     "start_time": "2019-01-25T15:57:27.467514Z"
    }
   },
   "outputs": [],
   "source": [
    "import keyword\n",
    "import re\n",
    "\n",
    "def is_identifier(s):\n",
    "    if s in dir(__builtin__) or keyword.iskeyword(s):\n",
    "        print(\"conflict\")\n",
    "        return False\n",
    "    \n",
    "    if re.match('^\\D[0-9a-zA-Z_]', s) is None:\n",
    "        return False\n",
    "    else:\n",
    "        return True\n",
    "        "
   ]
  },
  {
   "cell_type": "code",
   "execution_count": 19,
   "metadata": {
    "ExecuteTime": {
     "end_time": "2019-01-25T16:00:28.777322Z",
     "start_time": "2019-01-25T16:00:28.750966Z"
    }
   },
   "outputs": [
    {
     "name": "stdout",
     "output_type": "stream",
     "text": [
      "conflict\n"
     ]
    },
    {
     "data": {
      "text/plain": [
       "False"
      ]
     },
     "execution_count": 19,
     "metadata": {},
     "output_type": "execute_result"
    },
    {
     "name": "stdout",
     "output_type": "stream",
     "text": [
      "conflict\n"
     ]
    },
    {
     "data": {
      "text/plain": [
       "False"
      ]
     },
     "execution_count": 19,
     "metadata": {},
     "output_type": "execute_result"
    },
    {
     "data": {
      "text/plain": [
       "False"
      ]
     },
     "execution_count": 19,
     "metadata": {},
     "output_type": "execute_result"
    },
    {
     "data": {
      "text/plain": [
       "False"
      ]
     },
     "execution_count": 19,
     "metadata": {},
     "output_type": "execute_result"
    },
    {
     "data": {
      "text/plain": [
       "True"
      ]
     },
     "execution_count": 19,
     "metadata": {},
     "output_type": "execute_result"
    },
    {
     "data": {
      "text/plain": [
       "True"
      ]
     },
     "execution_count": 19,
     "metadata": {},
     "output_type": "execute_result"
    }
   ],
   "source": [
    "isidentifier(\"dict\")\n",
    "isidentifier(\"def\")\n",
    "isidentifier(\"123asd\")\n",
    "isidentifier(\"%@!#\")\n",
    "isidentifier(\"_123asd\")\n",
    "isidentifier(\"asd\")"
   ]
  },
  {
   "cell_type": "markdown",
   "metadata": {},
   "source": [
    "#### 2.编写一个函数，能生成包含20个范围在0-999之间的随机整数的列表，然后将前10个元素升序排列，后10个元素降序排列，并分别打印输出"
   ]
  },
  {
   "cell_type": "code",
   "execution_count": 30,
   "metadata": {
    "ExecuteTime": {
     "end_time": "2019-01-25T16:20:14.892630Z",
     "start_time": "2019-01-25T16:20:14.881862Z"
    }
   },
   "outputs": [
    {
     "name": "stdout",
     "output_type": "stream",
     "text": [
      "[53, 92, 149, 245, 435, 550, 595, 699, 871, 967, 965, 925, 816, 691, 632, 596, 379, 273, 258, 15]\n"
     ]
    }
   ],
   "source": [
    "import random\n",
    "\n",
    "def print_nums():\n",
    "    raw_list = [random.randint(0, 999) for i in range(20)]\n",
    "    raw_list[0:10] = sorted(raw_list[0:10])\n",
    "    raw_list[10:] = sorted(raw_list[10:],reverse=True)    \n",
    "    print(raw_list)\n",
    "    \n",
    "    \n",
    "print_nums()"
   ]
  },
  {
   "cell_type": "markdown",
   "metadata": {},
   "source": [
    "#### 3.有一分数序列为：2/1，3/2，5/3，8/5，13/8，21/13,请使用Python代码生成这种规则的数列，并打印该数列的前30项的和"
   ]
  },
  {
   "cell_type": "code",
   "execution_count": 168,
   "metadata": {
    "ExecuteTime": {
     "end_time": "2019-01-25T17:17:07.036421Z",
     "start_time": "2019-01-25T17:17:07.030748Z"
    }
   },
   "outputs": [
    {
     "data": {
      "text/plain": [
       "10.007051282051282"
      ]
     },
     "execution_count": 168,
     "metadata": {},
     "output_type": "execute_result"
    }
   ],
   "source": [
    "2/1+3/2+5/3+8/5+13/8+21/13"
   ]
  },
  {
   "cell_type": "code",
   "execution_count": 171,
   "metadata": {
    "ExecuteTime": {
     "end_time": "2019-01-25T17:18:43.605945Z",
     "start_time": "2019-01-25T17:18:43.542087Z"
    }
   },
   "outputs": [
    {
     "name": "stdout",
     "output_type": "stream",
     "text": [
      "数列如下\n",
      "[2.0, 1.5, 1.6666666666666667, 1.6, 1.625, 1.6153846153846154, 1.619047619047619, 1.6176470588235294, 1.6181818181818182, 1.6179775280898876, 1.6180555555555556, 1.6180257510729614, 1.6180371352785146, 1.618032786885246, 1.618034447821682, 1.6180338134001253, 1.618034055727554, 1.6180339631667064, 1.6180339985218033, 1.618033985017358, 1.6180339901755971, 1.618033988205325, 1.618033988957902, 1.6180339886704431, 1.6180339887802426, 1.618033988738303, 1.6180339887543225, 1.6180339887482036, 1.6180339887505408, 1.6180339887496482]\n",
      "=============\n",
      "sum = 48\n"
     ]
    }
   ],
   "source": [
    "def sum_nums(cnt):\n",
    "    if cnt == 1:\n",
    "        print([2/1])\n",
    "        print(2/1)\n",
    "        return\n",
    "    elif cnt <= 0:\n",
    "        print([0])\n",
    "        print(0)\n",
    "        return\n",
    "    \n",
    "    def gener_num(list1, list2):\n",
    "        nums1 = list1\n",
    "        nums2 = list2\n",
    "        while True:\n",
    "            yield nums1[0]+nums1[1], nums2[0]+nums2[1]\n",
    "            nums1 = [nums1[1], nums1[0]+nums1[1]]\n",
    "            nums2 = [nums2[1], nums2[0]+nums2[1]]\n",
    "        \n",
    "    result = 2/1 + 3/2\n",
    "    nums = [2/1, 3/2]\n",
    "    num = gener_num([2,3], [1,2])\n",
    "    for i in range(cnt-2):\n",
    "        (a, b) = num.__next__()\n",
    "        result += a/b\n",
    "        nums.append(a/b)\n",
    "    \n",
    "    print(\"数列如下\")\n",
    "    print(nums)\n",
    "    print(\"=============\")\n",
    "    print(\"sum = %d\" % result)\n",
    "        \n",
    "sum_nums(30)"
   ]
  },
  {
   "cell_type": "markdown",
   "metadata": {},
   "source": [
    "#### 4. BMI编写\n",
    "身体质量指数（BMI）是根据人的体重和身高计算得出的一个数字，BMI是可靠的身体肥胖指标，其计算公式：BMI=Weight/High2，其中体重单位为公斤，身高单位为米。\n",
    "\n",
    "- 计算公式为：$BMI=体重（kg）÷身高^2（m）$\n",
    "\n",
    "- 提示用户输入体重（kg）和身高的数字(m)(注意单位），然后计算BMI。\n",
    "\n",
    "- 根据BMI指数范围，定义当前健康状态。BMI指数在18至25之间定义为健康的标准体重,小于该范围定义为偏瘦，超过该范围定义为偏重。\n",
    "\n",
    "- 将BMI指数和其所代表状态输出 \n",
    "\n",
    "\n"
   ]
  },
  {
   "cell_type": "code",
   "execution_count": 183,
   "metadata": {
    "ExecuteTime": {
     "end_time": "2019-01-25T17:28:45.711414Z",
     "start_time": "2019-01-25T17:28:45.705461Z"
    }
   },
   "outputs": [
    {
     "data": {
      "text/plain": [
       "21.604938271604937"
      ]
     },
     "execution_count": 183,
     "metadata": {},
     "output_type": "execute_result"
    }
   ],
   "source": [
    "70/(1.8**2)"
   ]
  },
  {
   "cell_type": "code",
   "execution_count": 186,
   "metadata": {
    "ExecuteTime": {
     "end_time": "2019-01-25T17:30:15.903491Z",
     "start_time": "2019-01-25T17:30:15.893216Z"
    }
   },
   "outputs": [],
   "source": [
    "def calBMI():\n",
    "    print(\"请输入体重(kg)\")\n",
    "    weight = input()\n",
    "    print(\"请输入身高(m)\")\n",
    "    high = input()\n",
    "    bmi = float(weight)/(float(high)**2)\n",
    "    if bmi < 18:\n",
    "        print(\"BMI指数%d 偏瘦哟T.T\" %bmi)\n",
    "    elif 18 <= bmi and bmi <= 25:\n",
    "        print(\"BMI指数%d 刚刚好哟^.^\" %bmi)\n",
    "    else:\n",
    "        print(\"BMI指数%d 胖胖的T.T\" %bmi)"
   ]
  },
  {
   "cell_type": "code",
   "execution_count": 187,
   "metadata": {
    "ExecuteTime": {
     "end_time": "2019-01-25T17:30:22.358108Z",
     "start_time": "2019-01-25T17:30:18.565877Z"
    }
   },
   "outputs": [
    {
     "name": "stdout",
     "output_type": "stream",
     "text": [
      "请输入体重(kg)\n",
      "70\n",
      "请输入身高(m)\n",
      "1.8\n",
      "BMI指数21 刚刚好哟^.^\n"
     ]
    }
   ],
   "source": [
    "calBMI()"
   ]
  },
  {
   "cell_type": "markdown",
   "metadata": {},
   "source": [
    "#### 5.字符统计\n",
    "- 创建一个函数，接收字符串输入，分别统计出其中英文字母、空格、数字和其它字符的个数后打印。\n",
    "- 提示：\n",
    "  - ord('a') 能将字符 'a' 转化为 ASCII 码表上对应的数值，\n",
    "  - 例如，空格为32  \n",
    "  - 数字 0-9 对应的码值为 48-57\n",
    "  - 大写字母 A-Z 对应 65-90\n",
    "  - 小写字母 a-z 对应 97-122\n",
    "  - 比122高的都是其它。"
   ]
  },
  {
   "cell_type": "code",
   "execution_count": 189,
   "metadata": {
    "ExecuteTime": {
     "end_time": "2019-01-25T17:47:26.565600Z",
     "start_time": "2019-01-25T17:47:26.500308Z"
    }
   },
   "outputs": [
    {
     "name": "stdout",
     "output_type": "stream",
     "text": [
      "小写3个，大写3个，数字3个，空格3个，其他4个\n"
     ]
    }
   ],
   "source": [
    "def word_static(S):\n",
    "    def is_num(c):\n",
    "        if 48 <= ord(c) and ord(c) <= 57: return True            \n",
    "        else: return False\n",
    "    \n",
    "    def is_lower(c):\n",
    "        if 97 <= ord(c) and ord(c) <= 122: return True            \n",
    "        else: return False\n",
    "        \n",
    "    def is_upper(c):\n",
    "        if 65 <= ord(c) and ord(c) <= 90: return True            \n",
    "        else: return False\n",
    "        \n",
    "    def is_block(c):\n",
    "        if ord(c) == 32: return True\n",
    "        else: return False\n",
    "    \n",
    "    lower=upper=block=num=other = 0\n",
    "    for s in S:\n",
    "        if is_num(s):\n",
    "            num += 1\n",
    "        elif is_lower(s):\n",
    "            lower += 1\n",
    "        elif is_upper(s):\n",
    "            upper += 1\n",
    "        elif is_block(s):\n",
    "            block += 1\n",
    "        else:\n",
    "            other += 1\n",
    "            \n",
    "    print(\"小写%d个，大写%d个，数字%d个，空格%d个，其他%d个\" %(lower, upper, num, block, other))\n",
    "    \n",
    "word_static(\"123%!@#  ZQQ qwe\")"
   ]
  },
  {
   "cell_type": "markdown",
   "metadata": {
    "collapsed": true
   },
   "source": [
    "#### 6.创建一个函数，可以将去除给定列表中中相邻且重复的元素(只保留一个)后，打印输出结果。\n",
    "- 说明\n",
    "  - 输入参数为 l1=[1,2,3,4,4,4,4,4,4,5,6,6,8,8,12,12,12,12,13]\n",
    "  - 操作后，保证原有整体排序不变，仅处理相邻且重复的元素\n",
    "  - 请勿使用set，否则该题不计分。"
   ]
  },
  {
   "cell_type": "code",
   "execution_count": 190,
   "metadata": {
    "ExecuteTime": {
     "end_time": "2019-01-25T17:56:03.567534Z",
     "start_time": "2019-01-25T17:56:03.545663Z"
    }
   },
   "outputs": [
    {
     "data": {
      "text/plain": [
       "[1, 2, 3, 4, 5, 6, 8, 12, 13]"
      ]
     },
     "execution_count": 190,
     "metadata": {},
     "output_type": "execute_result"
    }
   ],
   "source": [
    "def delete_repeat(s):\n",
    "    if len(s) < 1: \n",
    "        return None\n",
    "    if len(s) == 1:\n",
    "        return s\n",
    "    \n",
    "    base = s[0]\n",
    "    result = [base]\n",
    "    for i in range(1, len(s)):\n",
    "        if s[i] != base:\n",
    "            base = s[i]\n",
    "            result.append(s[i])            \n",
    "        else:\n",
    "            continue\n",
    "        \n",
    "    return result\n",
    "\n",
    "delete_repeat([1,2,3,4,4,4,4,4,4,5,6,6,8,8,12,12,12,12,13])"
   ]
  },
  {
   "cell_type": "markdown",
   "metadata": {},
   "source": [
    "#### 7 \t创建一个函数，接收一个由整数组成的列表（需对输入列表做检查，长度最少为2,数据类型为整型），并检验后下列条件后输出：\n",
    "- 如列表是升序排列的,则输出\"ASC\";   \n",
    "- 如列表是降序排列的,则输出\"DESC\";   \n",
    "- 如列表无序或对象全部相等，则输出\"WRONG\""
   ]
  },
  {
   "cell_type": "code",
   "execution_count": 201,
   "metadata": {
    "ExecuteTime": {
     "end_time": "2019-01-25T18:12:04.755561Z",
     "start_time": "2019-01-25T18:12:04.698178Z"
    }
   },
   "outputs": [
    {
     "name": "stdout",
     "output_type": "stream",
     "text": [
      "ASC\n",
      "DESC\n",
      "WRONG\n",
      "WRONG\n",
      "WRONG\n"
     ]
    }
   ],
   "source": [
    "def check_list(L):\n",
    "    if len(L) < 2:\n",
    "        print(\"WRONG\")\n",
    "        return\n",
    "    \n",
    "    base = L[0]\n",
    "    asc = desc = wrong = 0\n",
    "    for i in range(1,len(L)):\n",
    "        if type(L[i]) is not int:\n",
    "            print(\"WRONG\")\n",
    "            return\n",
    "        if base <= L[i]:\n",
    "            if base == L[i]:\n",
    "                wrong += 1                            \n",
    "            asc += 1\n",
    "            base = L[i]\n",
    "        elif base >= L[i]:\n",
    "            if base == L[i]:\n",
    "                wrong += 1            \n",
    "            desc += 1\n",
    "            base = L[i]\n",
    "            \n",
    "    if asc == len(L)-1 and wrong != len(L)-1:\n",
    "        print(\"ASC\")\n",
    "    elif desc == len(L)-1 and wrong != len(L)-1:\n",
    "        print(\"DESC\")\n",
    "    else:\n",
    "        print(\"WRONG\")\n",
    "    \n",
    "check_list([1,2,2,3,4,5,9])\n",
    "check_list([981,876,542,321,21,9,7,6,5,4,2,0])\n",
    "check_list([0,1,2,3,4,5,4,3,2,1])\n",
    "check_list([0,0,0,0,0,0])\n",
    "check_list([1])"
   ]
  },
  {
   "cell_type": "markdown",
   "metadata": {},
   "source": [
    "#### 8.高阶函数综合运用\n",
    "\n",
    "l1=[1,3,6,8,10,11,17]\n",
    "\n",
    "请仅使用map,reduce,filter对上方数组依次进行如下三次操作：\n",
    "\n",
    "\n",
    "- 剔除掉所有的偶数后打印\n",
    "\n",
    "- 对剩下的数字每个数字进行平方后打印\n",
    "\n",
    "- 对数组求和后打印"
   ]
  },
  {
   "cell_type": "code",
   "execution_count": 241,
   "metadata": {
    "ExecuteTime": {
     "end_time": "2019-01-25T18:36:29.316711Z",
     "start_time": "2019-01-25T18:36:29.312570Z"
    },
    "collapsed": true
   },
   "outputs": [],
   "source": [
    "l1=[1,3,6,8,10,11,17]"
   ]
  },
  {
   "cell_type": "code",
   "execution_count": 242,
   "metadata": {
    "ExecuteTime": {
     "end_time": "2019-01-25T18:36:29.917683Z",
     "start_time": "2019-01-25T18:36:29.911662Z"
    }
   },
   "outputs": [
    {
     "name": "stdout",
     "output_type": "stream",
     "text": [
      "[1, 3, 11, 17]\n"
     ]
    }
   ],
   "source": [
    "#剔除掉所有的偶数后打印\n",
    "a = list(filter(lambda x:x%2!=0, l1))\n",
    "print(a)"
   ]
  },
  {
   "cell_type": "code",
   "execution_count": 243,
   "metadata": {
    "ExecuteTime": {
     "end_time": "2019-01-25T18:36:30.447712Z",
     "start_time": "2019-01-25T18:36:30.441239Z"
    }
   },
   "outputs": [
    {
     "name": "stdout",
     "output_type": "stream",
     "text": [
      "[1, 9, 121, 289]\n"
     ]
    }
   ],
   "source": [
    "#对剩下的数字每个数字进行平方后打印\n",
    "b = list(map(lambda x:x**2, a))\n",
    "print(b)"
   ]
  },
  {
   "cell_type": "code",
   "execution_count": 246,
   "metadata": {
    "ExecuteTime": {
     "end_time": "2019-01-25T18:36:49.940912Z",
     "start_time": "2019-01-25T18:36:49.935051Z"
    }
   },
   "outputs": [
    {
     "name": "stdout",
     "output_type": "stream",
     "text": [
      "56\n"
     ]
    }
   ],
   "source": [
    "#对数组求和后打印\n",
    "c = reduce(lambda x,y:x+y, l1)\n",
    "print(c)"
   ]
  },
  {
   "cell_type": "markdown",
   "metadata": {},
   "source": [
    "#### 9.Python类设计\n",
    "设计一个公司类，完成以下要求，<font color=red>并实例化不同对象进行验证</font>\n",
    "\n",
    "类变量\n",
    " - 类下公司的总个数，类下实例的名称列表\n",
    "\n",
    "类方法\n",
    " - 返回公司类共有多少个公司实例\n",
    " - 返回公司类的公司实例有名称列表\n",
    "\n",
    "实例变量\n",
    "- 公司名，简介，利润，销售额，总成本，雇员姓名列表\n",
    "\n",
    "实例方法：\n",
    "- 招聘人才（每招一个人会有成本产生，影响该实例雇员列表，人数，总成本）\n",
    "- 解雇人员（每解雇一个人会有成本产生，影响该实例雇员列表，人数 ，总成本）\n",
    "- 公司广告推广(影响该实例总成本)\n",
    "- 交社保(按公司雇员总人数计算，影响该实例总成本)\n",
    "- 交税(按公司雇员总人数计算，影响该实例总成本)\n",
    "- 销售（按销售件数*价格计算销售额，利润按销售额*利润率进行计算利润。）\n",
    "- 获取公司雇员列表\n",
    "- 获取公司净利润"
   ]
  },
  {
   "cell_type": "code",
   "execution_count": 284,
   "metadata": {
    "ExecuteTime": {
     "end_time": "2019-01-25T19:53:13.960719Z",
     "start_time": "2019-01-25T19:53:13.600239Z"
    }
   },
   "outputs": [
    {
     "name": "stdout",
     "output_type": "stream",
     "text": [
      "总共有3个公司\n",
      "这三个公司分别是['百D', '阿L', '腾X']\n",
      "===============================\n",
      "百度的净利润是100\n",
      "百度招聘了一个10块钱年薪的同学--小狗\n",
      "雇用成功\n",
      "百度的总开支变成了110，公司员工变成了['李yh', '老外1', '小狗']\n",
      "===============================\n",
      "百度为所有员工缴纳了1块钱社保\n",
      "百度的总开支变成了113\n",
      "百度为所有员工缴纳了2块钱税费\n",
      "百度的总开支变成了119\n",
      "===============================\n",
      "百度解雇了年薪20的同学--老外1\n",
      "解雇成功\n",
      "百度的总开支变成了99，公司员工变成了['李yh', '小狗']\n",
      "===============================\n",
      "百度为新产品做广告，花了1000块钱，百度总开支变成了1099\n",
      "===============================\n",
      "百度的新产品售价5,销量惨淡，只卖出了1件\n",
      "百度一年的净利润为-1094\n",
      "===============================\n",
      "马bb笑了，麻花藤也笑了\n"
     ]
    }
   ],
   "source": [
    "class Company():\n",
    "    company_sums = 0\n",
    "    company_names = []\n",
    "    \n",
    "    def __init__(self, company_name, company_information, profit, sales_volume,\n",
    "                total_cost, name_list):\n",
    "        Company.company_sums += 1\n",
    "        Company.company_names.append(company_name)\n",
    "        self.__company_name = company_name\n",
    "        self.__company_information = company_information\n",
    "        self.__profit = profit\n",
    "        self.__sales_volume = sales_volume\n",
    "        self.__total_cost = total_cost\n",
    "        self.__name_list = name_list\n",
    "    \n",
    "    def recruit(self, name, salary):\n",
    "        if name not in self.__name_list:\n",
    "            self.__total_cost += salary\n",
    "            self.__name_list.append(name)\n",
    "            print(\"雇用成功\")\n",
    "        else:\n",
    "            print(\"已经雇佣过了\")\n",
    "        \n",
    "    def fire(self, name, salary):\n",
    "        if name in self.__name_list:\n",
    "            self.__total_cost -= salary\n",
    "            self.__name_list.remove(name)\n",
    "            print(\"解雇成功\")\n",
    "        else:\n",
    "            print(\"未雇佣此人\")\n",
    "            \n",
    "    def advertising(self, fee):\n",
    "        self.__total_cost += fee\n",
    "        \n",
    "    def social_security(self, fee):\n",
    "        self.__total_cost += fee*len(self.__name_list)\n",
    "        \n",
    "    def tax(self, fee):\n",
    "        self.__total_cost += fee*len(self.__name_list)\n",
    "        \n",
    "    def sale(self, price, cnt):\n",
    "        self.__sales_volume = price*cnt\n",
    "        self.__profit = self.__sales_volume - self.__total_cost\n",
    "        \n",
    "    @property\n",
    "    def names(self,):\n",
    "        return self.__name_list\n",
    "    \n",
    "    @property\n",
    "    def profit(self,):\n",
    "        return self.__profit\n",
    "    \n",
    "    @property\n",
    "    def total_cost(self,):\n",
    "        return self.__total_cost\n",
    "    \n",
    "    \n",
    "    @classmethod\n",
    "    def get_company_sums(cls,):\n",
    "        return Company.company_sums\n",
    "    \n",
    "    @classmethod\n",
    "    def get_company_names(cls,):\n",
    "        return Company.company_names\n",
    "    \n",
    "    \n",
    "b = Company(\"百D\", \"科技公司\", profit=100, sales_volume=200, \n",
    "            total_cost= 100, name_list=[\"李yh\", \"老外1\"])\n",
    "a = Company(\"阿L\", \"互联网公司\", profit=1000, sales_volume=2000, \n",
    "            total_cost= 1000, name_list=[\"马bb\", \"老外2\", \"老外3\"])\n",
    "t = Company(\"腾X\", \"游戏公司\", profit=900, sales_volume=1900, \n",
    "            total_cost= 1000, name_list=[\"麻花藤\", \"老外4\", \"老外5\", \"老外6\"])\n",
    "\n",
    "print(\"总共有%d个公司\" % Company.get_company_sums())\n",
    "print(\"这三个公司分别是%s\" % str(Company.get_company_names()))\n",
    "print(\"===============================\")\n",
    "\n",
    "salary1 = 10\n",
    "name1 = \"小狗\"\n",
    "print(\"百度的净利润是%d\" % b.profit)\n",
    "print(\"百度招聘了一个%d块钱年薪的同学--%s\" % (salary1, name1))\n",
    "b.recruit(name1, salary1)\n",
    "print(\"百度的总开支变成了%d，公司员工变成了%s\" %(b.total_cost, b.names))\n",
    "print(\"===============================\")\n",
    "\n",
    "fee1 = 1\n",
    "fee2 = 2\n",
    "print(\"百度为所有员工缴纳了%d块钱社保\" %fee1)\n",
    "b.social_security(fee1)\n",
    "print(\"百度的总开支变成了%d\" %b.total_cost)\n",
    "print(\"百度为所有员工缴纳了%d块钱税费\" %fee2)\n",
    "b.tax(fee2)\n",
    "print(\"百度的总开支变成了%d\" %b.total_cost)\n",
    "print(\"===============================\")\n",
    "salary2 = 20\n",
    "name2 = \"老外1\"\n",
    "print(\"百度解雇了年薪%d的同学--%s\" %(salary2, name2))\n",
    "b.fire(name2, salary2)\n",
    "print(\"百度的总开支变成了%d，公司员工变成了%s\" %(b.total_cost, b.names))\n",
    "print(\"===============================\")\n",
    "fee3 = 1000\n",
    "b.advertising(fee3)\n",
    "print(\"百度为新产品做广告，花了%d块钱，百度总开支变成了%d\" %(fee3, b.total_cost))\n",
    "print(\"===============================\")\n",
    "price = 5\n",
    "cnt = 1\n",
    "print(\"百度的新产品售价%d,销量惨淡，只卖出了%d件\" %(price, cnt))\n",
    "b.sale(price, cnt)\n",
    "print(\"百度一年的净利润为%d\" %b.profit)\n",
    "print(\"===============================\")\n",
    "print(\"马bb笑了，麻花藤也笑了\")"
   ]
  },
  {
   "cell_type": "markdown",
   "metadata": {
    "collapsed": true
   },
   "source": [
    "#### 10.结合PIL库，制作一个能生成4位随机数验证码图片的函数。"
   ]
  },
  {
   "cell_type": "code",
   "execution_count": 285,
   "metadata": {
    "ExecuteTime": {
     "end_time": "2019-01-25T20:04:13.234780Z",
     "start_time": "2019-01-25T20:04:13.214174Z"
    }
   },
   "outputs": [
    {
     "ename": "ModuleNotFoundError",
     "evalue": "No module named 'Image'",
     "output_type": "error",
     "traceback": [
      "\u001b[0;31m---------------------------------------------------------------------------\u001b[0m",
      "\u001b[0;31mModuleNotFoundError\u001b[0m                       Traceback (most recent call last)",
      "\u001b[0;32m<ipython-input-285-67afb9a1f8f8>\u001b[0m in \u001b[0;36m<module>\u001b[0;34m()\u001b[0m\n\u001b[0;32m----> 1\u001b[0;31m \u001b[0;32mimport\u001b[0m \u001b[0mImage\u001b[0m\u001b[0;34m,\u001b[0m \u001b[0mImageDraw\u001b[0m\u001b[0;34m,\u001b[0m \u001b[0mImageFont\u001b[0m\u001b[0;34m,\u001b[0m \u001b[0mImageFilter\u001b[0m\u001b[0;34m\u001b[0m\u001b[0m\n\u001b[0m",
      "\u001b[0;31mModuleNotFoundError\u001b[0m: No module named 'Image'"
     ]
    }
   ],
   "source": [
    "import Image, ImageDraw, ImageFont, ImageFilter\n"
   ]
  },
  {
   "cell_type": "markdown",
   "metadata": {},
   "source": [
    "***\n",
    "<center><h1>####答卷结束####</h1></center>"
   ]
  },
  {
   "cell_type": "markdown",
   "metadata": {
    "collapsed": true
   },
   "source": [
    "### 本周课程意见反馈(非必答)\n",
    "请同学围绕以下两点进行回答：\n",
    "- 自身总结：您自己在本周课程的学习，收获，技能掌握等方面进行总结，包括自身在哪些方面存在哪些不足，欠缺，困惑。作为将来回顾学习路径时的依据。\n",
    "- 课程反馈：也可以就知识点，进度，难易度，教学方式，考试方式等等进行意见反馈，督促我们进行更有效的改进，为大家提供更优质的服务。\n"
   ]
  },
  {
   "cell_type": "code",
   "execution_count": null,
   "metadata": {
    "collapsed": true
   },
   "outputs": [],
   "source": []
  }
 ],
 "metadata": {
  "kernelspec": {
   "display_name": "Python 3",
   "language": "python",
   "name": "python3"
  },
  "language_info": {
   "codemirror_mode": {
    "name": "ipython",
    "version": 3
   },
   "file_extension": ".py",
   "mimetype": "text/x-python",
   "name": "python",
   "nbconvert_exporter": "python",
   "pygments_lexer": "ipython3",
   "version": "3.6.3"
  },
  "toc": {
   "base_numbering": 1,
   "nav_menu": {},
   "number_sections": true,
   "sideBar": true,
   "skip_h1_title": false,
   "title_cell": "Table of Contents",
   "title_sidebar": "Contents",
   "toc_cell": false,
   "toc_position": {},
   "toc_section_display": true,
   "toc_window_display": false
  }
 },
 "nbformat": 4,
 "nbformat_minor": 2
}
