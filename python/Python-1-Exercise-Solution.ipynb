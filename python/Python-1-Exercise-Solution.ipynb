{
 "cells": [
  {
   "cell_type": "markdown",
   "metadata": {},
   "source": [
    "\n",
    "\n",
    "## Python第一课作业\n",
    "\n",
    "####  作业提交说明：\n",
    "- 位置：作业文件统一放置于/0.Teacher/Exercise/Python1/下\n",
    "- 文件名：请先复制该notebook文件，并重新命名为(课程名)+(您姓名的全拼)，并按要求完成后保存\n",
    "- 时间：在本周结束前，提交。\n",
    "- 注意：请勿抄袭，移动，修改，删除其他同学和原始空白的练习文件。\n",
    "***"
   ]
  },
  {
   "cell_type": "markdown",
   "metadata": {},
   "source": [
    "## 作业"
   ]
  },
  {
   "cell_type": "markdown",
   "metadata": {},
   "source": [
    "#### 简答题"
   ]
  },
  {
   "cell_type": "markdown",
   "metadata": {},
   "source": [
    "- 1.你常用Jupyter notebook中的magic函数都有哪些？"
   ]
  },
  {
   "cell_type": "markdown",
   "metadata": {},
   "source": [
    "python中的magic函数分为`line magic`和`cell magic`,前者使用`%`，后者使用`%%`\n",
    "\n",
    "|命令|说明|\n",
    "|:---|---:|\n",
    "|%cd|Change the current working directory.|\n",
    "|%dirs|Return the current directory stack.|\n",
    "|%pwd|Return the current working directory path.|\n",
    "|%ls||\n",
    "|%lsmagic|List currently available magic functions.|\n",
    "|%config ZMQInteractiveShell.ast_node_interactivity='all'||\n",
    "|%timeit|Time execution of a Python statement or expression|\n",
    "|%whos|Like %who, but gives some extra information about each variable.|\n",
    "|%matplotlib:inline|在notebook中画图|\n",
    "|%%timeit|Time execution of a Python statement or expression|\n",
    "|%%writefile|写入文件|\n",
    "|%%python2|调用python2解释器|\n",
    " "
   ]
  },
  {
   "cell_type": "markdown",
   "metadata": {
    "collapsed": true
   },
   "source": [
    "- 2.简述Python文件运行的流程"
   ]
  },
  {
   "cell_type": "markdown",
   "metadata": {},
   "source": [
    "Python解释器（interpreter）在执行任何一个Python程序文件时，首先进行的动作都是先对文件中的Python源代码进行编译，编译的主要结果是产生的一组Python的字节码（byte code）\n",
    "\n",
    ">pyc文件是字节码在磁盘上的表现形式，是进行import module时对py文件进行编译的文件结果   \n",
    ">（如果之前编译过，且源文件又没有变化，则直接运行该pyc文件）\n",
    "\n",
    "而编译结果就是Python中的PyCodeObject对象，然后PyCodeObject对象交给Python虚拟机（Virtual Machine），由虚拟机按照顺序一条一条地执行字节码，从而完成对Python程序的执行动作"
   ]
  },
  {
   "cell_type": "markdown",
   "metadata": {
    "collapsed": true
   },
   "source": [
    "- 3.何为字符串驻留intern？"
   ]
  },
  {
   "cell_type": "markdown",
   "metadata": {},
   "source": [
    "对常用简单的字符串启动intern机制，对于值相同的字符串对象会保存在驻留池中，是共用的，不可变对象,通俗来讲，一次创建，多次引用。\n",
    "\n",
    "Python中，根据实例是否可修改，分为**可变**与**不可变**两种类型数据，对于不可变数据类型数值型和字符串，分别存在小整数缓存区和字符串驻留区。\n",
    "- 小整数驻留：\n",
    "Python为小整数（-5至256）已创建地址并存入在小整数缓存区，因而超过此范围则会放入整数链表，也就是相关整数是不同的对象，虽然是整数对象，但地址也不相同。如下所示，创建-5到256之间的整数，它们指向同一个对象，其他的整数会指向不同的对象。\n",
    "\n",
    "```\n",
    "a=77;b=77\n",
    "a is b#True\n",
    "a=998;b=998\n",
    "a is b#False\n",
    "```\n",
    "\n",
    "- 字符串驻留string interning\n",
    ">共享字符串字面量是一种优化措施，称为驻留（interning）,python不会驻留所有字符串和整数，驻留的条件是实现细节，而且没有文档说明。\n",
    "千万不要依赖字符串或整数的驻留！比较字符串或整数是否相等时，应该使用==，而不是is。驻留是python解释器内部使用的一个特性。\n",
    "（引自《流畅的Python》8.7节）\n",
    "\n",
    "```\n",
    "str_a='julyedu'\n",
    "str_b='julyedu'\n",
    "str_a is str_b#True 正常字符串，地址相同\n",
    "```\n",
    "```\n",
    "str_c='Python 3.5'\n",
    "str_d='Python 3.5'\n",
    "str_c is str_d#False 有些稍特殊的字符串，Python认为复用性不大，于是被分配到堆上，不会在内存池中检查。因此这是两个对象。\n",
    "```\n",
    "```\n",
    "import sys\n",
    "str_e=sys.intern('Python 3.5')#强制将字符串缓存进了内存池，因此相等。str_e,str_f均指向Arena相同位置\n",
    "str_f=sys.intern('Python 3.5')\n",
    "str_e is str_f #True\n",
    "```"
   ]
  },
  {
   "cell_type": "markdown",
   "metadata": {},
   "source": [
    "- 4.简单说说Python中的垃圾回收"
   ]
  },
  {
   "cell_type": "markdown",
   "metadata": {},
   "source": [
    "python垃圾回收采用引用计数为主，分代收集为辅。当一个对象引用数为0时，python就会回收这个对象的内存。\n",
    "\n",
    "Python的GC模块主要运用引用计数来跟踪和回收垃圾。在引用计数的基础上，还可以通过“标记-清除”解决容器对象可能产生的循环引用问题。通过分代回收以空间换取时间进一步提高垃圾回收效率\n",
    "\n",
    "当调用gc.collect()模块，或者gc模块计数达到阈值时以及程序结束时，会触发垃圾回收。\n",
    "\n",
    "在Python中，采用分代收集的方法。把对象分为三代，一开始，对象在创建的时候，放在一代中，如果在一次一代的垃圾检查中，改对象存活下来，就会被放到二代中，同理在一次二代的垃圾检查中，该对象存活下来，就会被放到三代中。"
   ]
  },
  {
   "cell_type": "markdown",
   "metadata": {},
   "source": [
    "- 5.迭代器与生成器有什么相似与不同的地方？"
   ]
  },
  {
   "cell_type": "markdown",
   "metadata": {},
   "source": [
    "- 迭代器\n",
    ">迭代是访问集合元素的一种方式。   \n",
    ">迭代器是一个可以记住遍历的位置的对象。   \n",
    ">迭代器对象从集合的第一个元素开始访问，直到所有的元素被访问完结束。迭代器只能往前不会后退。   \n",
    ">迭代器有两个基本的方法：iter() 和 next()。    \n",
    ">字符串，列表或元组对象都可用于创建迭代器\n",
    "\n",
    "- 生成器\n",
    "> 生成器是一种特殊的迭代器，反之不成立。   \n",
    "> 生成器自动实现了“迭代器协议”（即__iter__和next方法），不需要再手动实现两方法。   \n",
    "> 生成器在迭代的过程中可以改变当前迭代值，而修改普通迭代器的当前迭代值往往会发生异常，影响程序的执行   \n",
    ">具有yield关键字的函数都是生成器，yield可以理解为return，返回后面的值给调用者。不同的是return返回后，函数会释放，而生成器则不会。在直接调用next方法或用for语句进行下一次迭代时，生成器会从yield下一句开始执行，直至遇到下一个yield。\n",
    "\n",
    "相似：\n",
    "> 生成器是迭代器的一种，均可通过next（）函数返回下一个数据\n",
    "\n",
    "不同：\n",
    "> 迭代器一般是一次性生成所有数据并返回，而生成器是每次生成一个数据，遇到yield停止并返回，调用next（）再生成下一个数据。"
   ]
  },
  {
   "cell_type": "markdown",
   "metadata": {},
   "source": [
    "- 6.简述您对Python语言中的名字空间的认识？"
   ]
  },
  {
   "cell_type": "markdown",
   "metadata": {},
   "source": [
    "Python有一个核心概念是名字空间（namespace），namespace是一个name到object 的映射关系，存在形式就是字典。   \n",
    "Python有很多namespace，因此，在代码中如果碰到一个标志符（name），需要有一个规则来决定去哪个namespace查找——这个规则即是LEGB。\n",
    "\n",
    "以下是LEGB四个空间的说明：   \n",
    "- locals 是函数内的名字空间，包括局部变量和形参；\n",
    "- enclosing 外部嵌套函数的名字空间（闭包中常见）；\n",
    "- globals 全局变量，函数定义所在模块的名字空间；\n",
    "- builtins 内置模块的名字空间；\n",
    "\n",
    "\n",
    "> LEGB也是name的查找顺序：即locals -> enclosing function -> globals -> __builtins__"
   ]
  },
  {
   "cell_type": "markdown",
   "metadata": {},
   "source": [
    "#### 编程题"
   ]
  },
  {
   "cell_type": "markdown",
   "metadata": {},
   "source": [
    "- 7.请对输入三个整数a,b,c,判断能否以它们为三个边长构成三角形。若能，输出YES和面积，否则输出NO"
   ]
  },
  {
   "cell_type": "code",
   "execution_count": null,
   "metadata": {},
   "outputs": [],
   "source": [
    "import math\n",
    "\n",
    "def cal_triangle(a,b,c):\n",
    "    sorted_list = sorted([a,b,c])\n",
    "    if sorted_list[0] <= 0:\n",
    "        print(\"NO\")\n",
    "        return\n",
    "    if sum(sorted_list[:2]) > sorted_list[-1]:\n",
    "        d = sum(sorted_list)/2\n",
    "        e = math.sqrt(d*(d-a)*(d-b)*(d-c))\n",
    "        print(\"YES, 三角形面积为: %s\" % e)\n",
    "    else:\n",
    "        print(\"NO\")\n",
    "    return\n",
    "        \n",
    "cal_triangle(3,5,6)\n",
    "cal_triangle(3,177,4)"
   ]
  },
  {
   "cell_type": "markdown",
   "metadata": {},
   "source": [
    "- 8.可逆素数是将某素数的各位数字顺序颠倒后仍为素数的数，请编程并输出200以内的可逆素数"
   ]
  },
  {
   "cell_type": "code",
   "execution_count": 5,
   "metadata": {},
   "outputs": [
    {
     "name": "stdout",
     "output_type": "stream",
     "text": [
      "[2, 3, 5, 7, 11, 13, 17, 31, 37, 71, 73, 79, 97, 101, 107, 113, 131, 149, 151, 157, 167, 179, 181, 191, 199]\n"
     ]
    }
   ],
   "source": [
    "import math\n",
    "def isPrime(num):\n",
    "    for i in range(2,int(math.sqrt(num))+1):\n",
    "        if(num % i == 0):\n",
    "            return False\n",
    "    return True\n",
    "list = []\n",
    "for x in range (2,201):\n",
    "    if isPrime(x) and isPrime(int(str(x)[::-1])):\n",
    "        list.append(x)\n",
    "print(list)"
   ]
  }
 ],
 "metadata": {
  "kernelspec": {
   "display_name": "Python 3",
   "language": "python",
   "name": "python3"
  },
  "language_info": {
   "codemirror_mode": {
    "name": "ipython",
    "version": 3
   },
   "file_extension": ".py",
   "mimetype": "text/x-python",
   "name": "python",
   "nbconvert_exporter": "python",
   "pygments_lexer": "ipython3",
   "version": "3.5.2"
  }
 },
 "nbformat": 4,
 "nbformat_minor": 2
}
