{
 "cells": [
  {
   "cell_type": "markdown",
   "metadata": {
    "collapsed": true
   },
   "source": [
    "## Python第二课作业\n",
    "\n",
    "####  作业提交说明：\n",
    "- 位置：作业文件统一放置于/0.Teacher/Exercise/Python2/下\n",
    "- 文件名：请先复制该notebook文件，并重新命名为(课程名)+(您姓名的全拼)，并按要求完成后保存\n",
    "- 时间：课程结束后的第二天前提交。\n",
    "- 注意：请勿抄袭，移动，修改，删除其他同学和原始空白的练习文件。\n",
    "***"
   ]
  },
  {
   "cell_type": "markdown",
   "metadata": {},
   "source": [
    "## 作业"
   ]
  },
  {
   "cell_type": "markdown",
   "metadata": {},
   "source": [
    "#### 简答题"
   ]
  },
  {
   "cell_type": "markdown",
   "metadata": {},
   "source": [
    "- 1.某个函数参数前出现了`*`和`**`，这是什么意思？"
   ]
  },
  {
   "cell_type": "markdown",
   "metadata": {},
   "source": [
    "当要使函数接收元组或字典形式的参数 的时候，有一种特殊的方法，它分别使用`*`和`**`前缀 ,这种方法在函数需要获取可变数量的参数的时候特别有用。在args变量前有`*`前缀 时，所有多余的函数参数都会作为一个元组存储在args中 。如果使用的是`**`前缀 ，多余的参数则会被认为是一个字典的健/值对。\n",
    "\n",
    "\n",
    "对于def func(`*`args):，`*`args表示把传进来的位置参数存储在tuple（元组）args里面。例如，调用func(1, 2, 3) ，args就表示(1, 2, 3)这个元组 。\n",
    "    \n",
    "对于def func(`**`args):，`**`args表示把参数作为字典的健-值对存储在dict（字典）args里面。例如，调用func(a='I', b='am', c='wcdj') ，args就表示{'a':'I', 'b':'am', 'c':'wcdj'}这个字典 。\n",
    "\n",
    "\n",
    "`*` 表示该参数是可以接收不定长的位置参数， `**` 表示该参数是可以接收不定长的关键字参数\n",
    "\n",
    "`*` 不定长的位置参数\n",
    "\n",
    "可变参数就是参数可以传递任意个参数，这些参数在函数调用时自动组装为一个tuple。，比如：\n",
    "\n",
    "```python\n",
    "def calc(*numbers):\n",
    "    sum = 0\n",
    "    for n in numbers:\n",
    "        sum = sum + n * n\n",
    "    return sum\n",
    "    \n",
    "calc(1, 2)\n",
    "\n",
    "nums = [1,2,3,4,5]\n",
    "calc(*nums)  # *nums 表示把 nums 这个 list 的元素拆包后，传到calc函数。作为可变参数传递\n",
    "```\n",
    "\n",
    "`**` 不定长的关键字参数\n",
    "\n",
    "关键字参数就是传入任意个含参数名的参数，这些参数自动组装为一个dict。如：\n",
    "\n",
    "```python\n",
    "def calc(a, b, **kw):\n",
    "    print('a', a, 'b', b, 'others', kw)\n",
    "    \n",
    "calc(45, 11, lol='lol')\n",
    "```"
   ]
  },
  {
   "cell_type": "markdown",
   "metadata": {
    "collapsed": true
   },
   "source": [
    "- 2.高阶函数与函数式编程中的函数是第一对象之间存在什么样的关系？"
   ]
  },
  {
   "cell_type": "markdown",
   "metadata": {},
   "source": [
    "函数是第一对象意味着：\n",
    "\n",
    "> 函数可以在运行时动态创建，还可以在程序执行过程中创建。\n",
    ">\n",
    "> 函数可以分配变量，可以将它们的引用复制到其他变量，可以被扩展，此外，除少数特殊情况外，函数还可以被删除。\n",
    ">\n",
    "> 可以作为参数传递给其他函数，并且还可以有其他函数返回。\n",
    ">\n",
    "> 函数可以有自己的属性和方法。\n",
    "\n",
    "而高阶函数就是把一个函数映射到另一个函数，也就是能够接收函数作为参数的函数，这是“函数是第一对象”的特性之一。"
   ]
  },
  {
   "cell_type": "markdown",
   "metadata": {
    "collapsed": true
   },
   "source": [
    "- 3.谈谈您对Python中的装饰器的理解"
   ]
  },
  {
   "cell_type": "markdown",
   "metadata": {},
   "source": [
    "装饰器是一个带有函数作为参数并返回一个新函数的闭包，本质上装饰器也是函数。   \n",
    "装饰器的作用是对已有的函数的功能进行修改或者增加。   \n",
    "简化函数重复定义的繁琐编程，加强对函数的可利用部分的重复使用。\n",
    "\n",
    "\n",
    "Python 使用 `@` 语法糖来提供装饰器功能：\n",
    "\n",
    "\n",
    "以下是一个比较常见的形式：\n",
    "\n",
    "```python\n",
    "from functools import wraps\n",
    "\n",
    "\n",
    "def use_logging(level):  # 装饰器带参数\n",
    "    def decorator(func):\n",
    "        @functools.wraps(func)  # 把原始函数的文档和签名复制到wrapper()函数中\n",
    "        def wrapper(*args, **kwargs):  # 通用参数传递形式\n",
    "            if level == \"warn\":\n",
    "                logging.warn(\"%s is running\" % func.__name__)\n",
    "            elif level == \"info\":\n",
    "                logging.info(\"%s is running\" % func.__name__)\n",
    "            return func(*args)\n",
    "        return wrapper\n",
    "\n",
    "    return decorator\n",
    "\n",
    "@use_logging(level=\"warn\")\n",
    "def foo(name='foo'):\n",
    "    print(\"i am %s\" % name)\n",
    "\n",
    "foo()\n",
    "\n",
    "```"
   ]
  },
  {
   "cell_type": "code",
   "execution_count": 6,
   "metadata": {},
   "outputs": [
    {
     "name": "stderr",
     "output_type": "stream",
     "text": [
      "/usr/local/lib/python3.5/dist-packages/ipykernel_launcher.py:9: DeprecationWarning: The 'warn' function is deprecated, use 'warning' instead\n",
      "  if __name__ == '__main__':\n",
      "WARNING:root:foo is running\n"
     ]
    },
    {
     "name": "stdout",
     "output_type": "stream",
     "text": [
      "i am fo1\n"
     ]
    }
   ],
   "source": [
    "from functools import wraps\n",
    "import functools\n",
    "import logging\n",
    "def use_logging(level):  # 装饰器带参数\n",
    "    def decorator(func):\n",
    "        #@functools.wraps(func)  # 把原始函数的文档和签名复制到wrapper()函数中\n",
    "        def wrapper(*args, **kwargs):  # 通用参数传递形式\n",
    "            if level == \"warn\":\n",
    "                logging.warn(\"%s is running\" % func.__name__)\n",
    "            elif level == \"info\":\n",
    "                logging.info(\"%s is running\" % func.__name__)\n",
    "            return func(*args)\n",
    "        return wrapper\n",
    "\n",
    "    return decorator\n",
    "\n",
    "@use_logging(level=\"warn\")\n",
    "def foo(name='fo1'):\n",
    "    print(\"i am %s\" % name)\n",
    "\n",
    "foo()"
   ]
  },
  {
   "cell_type": "markdown",
   "metadata": {},
   "source": [
    "- 4.Python闭包出现的条件是哪些?"
   ]
  },
  {
   "cell_type": "markdown",
   "metadata": {},
   "source": [
    "* 出现嵌套函数（nested function）\n",
    "* 嵌套函数引用了定义在外层函数（the enclosing function）的变量\n",
    "* 外层函数返回嵌套函数"
   ]
  },
  {
   "cell_type": "markdown",
   "metadata": {},
   "source": [
    "- 5.简述LEGB规则"
   ]
  },
  {
   "cell_type": "markdown",
   "metadata": {},
   "source": [
    "> L-Local(function) : 局部名字空间\n",
    ">\n",
    "> E-Enclosing function locals ：外部嵌套函数所引用的自由变量所在名字空间(比如闭包)\n",
    ">\n",
    "> G-Global(module)：函数定义所在模块（文件）的名字空间\n",
    ">\n",
    "> B-Builtin(Python)：Python内置模块的名字空间\n",
    "\n",
    "LEGB就是用来规定命名空间查找顺序的规则：L -> E -> G -> B"
   ]
  },
  {
   "cell_type": "markdown",
   "metadata": {},
   "source": [
    "- 6.Python中如何使用数据描述符控制对类成员的访问？"
   ]
  },
  {
   "cell_type": "markdown",
   "metadata": {},
   "source": [
    "Python内置的 `@property` 装饰器负责把一个方法变成属性调用的：\n",
    "\n",
    "```python\n",
    "class Person(object):\n",
    "\n",
    "    def __init__(self, birth):\n",
    "        self._birth = birth\n",
    "\n",
    "    @property\n",
    "    def birth(self):\n",
    "        return self._birth\n",
    "\n",
    "    @birth.setter\n",
    "    def birth(self):\n",
    "        return self._birth\n",
    "\n",
    "    @property\n",
    "    def age(self):\n",
    "        return 2018 - self.birth\n",
    "```\n",
    "\n",
    "上边的代码中，通过 `@property` 设置变量，生日（birth）是可读可写，而年龄（age）则是可读不可写。"
   ]
  },
  {
   "cell_type": "markdown",
   "metadata": {},
   "source": [
    "#### 编程题"
   ]
  },
  {
   "cell_type": "markdown",
   "metadata": {},
   "source": [
    "- 7.设计一个能找出列表中缺失值的函数\n",
    "```\n",
    "Input : [1,2,3,4,6,7,8]\n",
    "Output : 5\n",
    "```\n"
   ]
  },
  {
   "cell_type": "code",
   "execution_count": 2,
   "metadata": {},
   "outputs": [
    {
     "data": {
      "text/plain": [
       "5.0"
      ]
     },
     "execution_count": 2,
     "metadata": {},
     "output_type": "execute_result"
    }
   ],
   "source": [
    "'''\n",
    "解题思路：如果列表是等差数列而且只有一个缺失值的情况下\n",
    "可以求出没有缺失值下列表的和之后和有缺失值的列表和相减得到就是缺失值\n",
    "一下以从1开始的自然数列为例\n",
    "'''\n",
    "def findMissingNum(nums):\n",
    "    Max = max(nums)\n",
    "    return Max * (Max + 1)/2 - sum(nums)\n",
    "\n",
    "l1 = [1,5,6,7,8]\n",
    "findMissingNum(l1) "
   ]
  },
  {
   "cell_type": "code",
   "execution_count": 4,
   "metadata": {},
   "outputs": [
    {
     "data": {
      "text/plain": [
       "8"
      ]
     },
     "execution_count": 4,
     "metadata": {},
     "output_type": "execute_result"
    }
   ],
   "source": []
  },
  {
   "cell_type": "markdown",
   "metadata": {},
   "source": [
    "- 8.请设计一个人员类（Person）该类具有姓名，年龄，性别等信息   "
   ]
  },
  {
   "cell_type": "code",
   "execution_count": 2,
   "metadata": {},
   "outputs": [
    {
     "data": {
      "text/plain": [
       "35"
      ]
     },
     "execution_count": 2,
     "metadata": {},
     "output_type": "execute_result"
    }
   ],
   "source": [
    "class Person():\n",
    "    def __init__(self,name,age,gender):\n",
    "        self.__name = name\n",
    "        self.__age = age\n",
    "        self.__gender = gender\n",
    "    @property\n",
    "    def name(self,):\n",
    "        return self.__name\n",
    "    @name.setter\n",
    "    def name(self,name):\n",
    "        self.__name = name\n",
    "    @property\n",
    "    def age(self,):\n",
    "        return self.__age\n",
    "    @age.setter\n",
    "    def age(self,age):\n",
    "        self.__age = age\n",
    "    @property\n",
    "    def gender(self,):\n",
    "        return self.__gender\n",
    "    @gender.setter\n",
    "    def gender(self,sex):\n",
    "        self.__gender = gender\n",
    "\n",
    "p = Person(\"liaoxin\",35,\"male\")\n",
    "p.age"
   ]
  },
  {
   "cell_type": "markdown",
   "metadata": {},
   "source": [
    "- 8.1 再设计一个继承自人员类的教师类(Teacher)该类有教师职称，学历，工作年数，工资信息   \n",
    "并能计算出总收入（总收入计算为=工资+工作年数x100），要求对该类构造函数进行重载。"
   ]
  },
  {
   "cell_type": "code",
   "execution_count": 9,
   "metadata": {},
   "outputs": [
    {
     "ename": "AttributeError",
     "evalue": "'Teacher' object has no attribute '__title'",
     "output_type": "error",
     "traceback": [
      "\u001b[0;31m---------------------------------------------------------------------------\u001b[0m",
      "\u001b[0;31mAttributeError\u001b[0m                            Traceback (most recent call last)",
      "\u001b[0;32m<ipython-input-9-f64557b70e0a>\u001b[0m in \u001b[0;36m<module>\u001b[0;34m\u001b[0m\n\u001b[1;32m     35\u001b[0m \u001b[0;34m\u001b[0m\u001b[0m\n\u001b[1;32m     36\u001b[0m \u001b[0mt\u001b[0m \u001b[0;34m=\u001b[0m \u001b[0mTeacher\u001b[0m\u001b[0;34m(\u001b[0m\u001b[0;34m\"liaoxin\"\u001b[0m\u001b[0;34m,\u001b[0m\u001b[0;36m35\u001b[0m\u001b[0;34m,\u001b[0m\u001b[0;34m\"male\"\u001b[0m\u001b[0;34m,\u001b[0m\u001b[0;34m\"enginner\"\u001b[0m\u001b[0;34m,\u001b[0m\u001b[0;34m\"master\"\u001b[0m\u001b[0;34m,\u001b[0m\u001b[0;36m8\u001b[0m\u001b[0;34m,\u001b[0m\u001b[0;36m10000\u001b[0m\u001b[0;34m)\u001b[0m\u001b[0;34m\u001b[0m\u001b[0m\n\u001b[0;32m---> 37\u001b[0;31m \u001b[0mprint\u001b[0m\u001b[0;34m(\u001b[0m\u001b[0mt\u001b[0m\u001b[0;34m.\u001b[0m\u001b[0m__title\u001b[0m\u001b[0;34m)\u001b[0m\u001b[0;34m\u001b[0m\u001b[0m\n\u001b[0m\u001b[1;32m     38\u001b[0m \u001b[0mt\u001b[0m\u001b[0;34m.\u001b[0m\u001b[0mgetTeacherIncome\u001b[0m\u001b[0;34m(\u001b[0m\u001b[0;34m)\u001b[0m\u001b[0;34m\u001b[0m\u001b[0m\n\u001b[1;32m     39\u001b[0m \u001b[0;31m#t.__dir__()\u001b[0m\u001b[0;34m\u001b[0m\u001b[0;34m\u001b[0m\u001b[0m\n",
      "\u001b[0;31mAttributeError\u001b[0m: 'Teacher' object has no attribute '__title'"
     ]
    }
   ],
   "source": [
    "class Teacher(Person):\n",
    "    def __init__(self,name,age,gender,title,education,work_years,salary):\n",
    "        Person.__init__(self,name,age,gender)\n",
    "        self.__title = title\n",
    "        self.__education = education\n",
    "        self.__work_years = work_years\n",
    "        self.__salary = salary\n",
    "    @property\n",
    "    def title(self,):\n",
    "        return self.__title\n",
    "    @title.setter\n",
    "    def title(self,title):\n",
    "        self.__title = title\n",
    "    @property\n",
    "    def education(self,):\n",
    "        return self.__education\n",
    "    @education.setter\n",
    "    def education(self,education):\n",
    "        self.__education = education\n",
    "    @property\n",
    "    def work_years(self,):\n",
    "        return self.__work_years\n",
    "    @work_years.setter\n",
    "    def set_name(self,work_years):\n",
    "        self.__work_years = work_years\n",
    "    @property\n",
    "    def salary(self,):\n",
    "        return self.__salary\n",
    "    @salary.setter\n",
    "    def salary(self,salary):\n",
    "        self.__salary = salary\n",
    "\n",
    "    def getTeacherIncome(self,):\n",
    "        return (self.__salary+self.__work_years*100)\n",
    "    \n",
    "t = Teacher(\"liaoxin\",35,\"male\",\"enginner\",\"master\",8,10000)\n",
    "print(t.__title)\n",
    "t.getTeacherIncome()\n",
    "#t.__dir__()"
   ]
  },
  {
   "cell_type": "code",
   "execution_count": null,
   "metadata": {
    "collapsed": true
   },
   "outputs": [],
   "source": []
  }
 ],
 "metadata": {
  "kernelspec": {
   "display_name": "Python 3",
   "language": "python",
   "name": "python3"
  },
  "language_info": {
   "codemirror_mode": {
    "name": "ipython",
    "version": 3
   },
   "file_extension": ".py",
   "mimetype": "text/x-python",
   "name": "python",
   "nbconvert_exporter": "python",
   "pygments_lexer": "ipython3",
   "version": "3.6.3"
  },
  "toc": {
   "base_numbering": 1,
   "nav_menu": {},
   "number_sections": true,
   "sideBar": true,
   "skip_h1_title": false,
   "title_cell": "Table of Contents",
   "title_sidebar": "Contents",
   "toc_cell": false,
   "toc_position": {},
   "toc_section_display": true,
   "toc_window_display": false
  }
 },
 "nbformat": 4,
 "nbformat_minor": 2
}
