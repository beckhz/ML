{
 "cells": [
  {
   "cell_type": "code",
   "execution_count": 51,
   "metadata": {
    "ExecuteTime": {
     "end_time": "2019-01-24T14:04:44.510525Z",
     "start_time": "2019-01-24T14:04:44.484698Z"
    }
   },
   "outputs": [
    {
     "name": "stdout",
     "output_type": "stream",
     "text": [
      "正在装饰2\n",
      "正在装饰1\n",
      "111\n",
      "222\n",
      "333\n"
     ]
    }
   ],
   "source": [
    "def w1(func):\n",
    "    print(\"正在装饰1\")\n",
    "    \n",
    "    def cou():\n",
    "        print(\"111\")\n",
    "        func()\n",
    "    return cou\n",
    "\n",
    "def w2(func):\n",
    "    print(\"正在装饰2\")\n",
    "    \n",
    "    def cou():\n",
    "        print(\"222\")\n",
    "        func()\n",
    "    return cou\n",
    "\n",
    "@w1\n",
    "@w2\n",
    "def f1():\n",
    "    print(\"333\")\n",
    "    \n",
    "f1()"
   ]
  },
  {
   "cell_type": "code",
   "execution_count": null,
   "metadata": {
    "collapsed": true
   },
   "outputs": [],
   "source": []
  }
 ],
 "metadata": {
  "kernelspec": {
   "display_name": "Python 3",
   "language": "python",
   "name": "python3"
  },
  "language_info": {
   "codemirror_mode": {
    "name": "ipython",
    "version": 3
   },
   "file_extension": ".py",
   "mimetype": "text/x-python",
   "name": "python",
   "nbconvert_exporter": "python",
   "pygments_lexer": "ipython3",
   "version": "3.6.3"
  },
  "toc": {
   "base_numbering": 1,
   "nav_menu": {},
   "number_sections": true,
   "sideBar": true,
   "skip_h1_title": false,
   "title_cell": "Table of Contents",
   "title_sidebar": "Contents",
   "toc_cell": false,
   "toc_position": {},
   "toc_section_display": true,
   "toc_window_display": false
  }
 },
 "nbformat": 4,
 "nbformat_minor": 2
}
